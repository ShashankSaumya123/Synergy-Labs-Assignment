{
 "cells": [
  {
   "cell_type": "code",
   "execution_count": 1,
   "metadata": {},
   "outputs": [],
   "source": [
    "import numpy as np\n",
    "\n",
    "loop_length = 60    # Fibonacci Series's last digits loop after 60\n",
    "fib_arr = [1,1]    # Array to store the fibonacci number's last digit with first two numbers.\n",
    "\n",
    "for i in range(2,loop_length):\n",
    "    fib_arr.append((fib_arr[-1]+fib_arr[-2])%10)\n",
    "\n",
    "# Returns the last digit of nth fibonacci number using the array above\n",
    "def fibonacci(n):\n",
    "    return fib_arr[(n%loop_length)-1]"
   ]
  },
  {
   "cell_type": "code",
   "execution_count": 2,
   "metadata": {},
   "outputs": [
    {
     "data": {
      "text/plain": [
       "6"
      ]
     },
     "execution_count": 2,
     "metadata": {},
     "output_type": "execute_result"
    }
   ],
   "source": [
    "fibonacci(987654321)"
   ]
  }
 ],
 "metadata": {
  "kernelspec": {
   "display_name": "researchvenv",
   "language": "python",
   "name": "python3"
  },
  "language_info": {
   "codemirror_mode": {
    "name": "ipython",
    "version": 3
   },
   "file_extension": ".py",
   "mimetype": "text/x-python",
   "name": "python",
   "nbconvert_exporter": "python",
   "pygments_lexer": "ipython3",
   "version": "3.10.5"
  },
  "orig_nbformat": 4
 },
 "nbformat": 4,
 "nbformat_minor": 2
}
